{
  "nbformat": 4,
  "nbformat_minor": 0,
  "metadata": {
    "colab": {
      "name": "Hyperparameter_tunning_Logistic_Regression.ipynb",
      "provenance": [],
      "collapsed_sections": []
    },
    "kernelspec": {
      "name": "python3",
      "display_name": "Python 3"
    },
    "language_info": {
      "name": "python"
    }
  },
  "cells": [
    {
      "cell_type": "markdown",
      "metadata": {
        "id": "CHUlsXEin7_8"
      },
      "source": [
        "# ***Hyper_tunning in Logistic Regression:***\n"
      ]
    },
    {
      "cell_type": "code",
      "metadata": {
        "id": "xPOUhHnBCLjQ"
      },
      "source": [
        "import pandas as pd\n",
        "import numpy as np\n",
        "import matplotlib.pyplot as plt\n",
        "import seaborn as sns"
      ],
      "execution_count": 1,
      "outputs": []
    },
    {
      "cell_type": "code",
      "metadata": {
        "id": "VZz3nO0dDG6L"
      },
      "source": [
        "#importing data\n",
        "df=pd.read_csv('/content/Churn_Modelling.csv')"
      ],
      "execution_count": 2,
      "outputs": []
    },
    {
      "cell_type": "code",
      "metadata": {
        "colab": {
          "base_uri": "https://localhost:8080/",
          "height": 222
        },
        "id": "F10cwR6gDpxf",
        "outputId": "07b370e0-1f0d-4fb5-9683-e8097663144d"
      },
      "source": [
        "df.head()"
      ],
      "execution_count": 3,
      "outputs": [
        {
          "output_type": "execute_result",
          "data": {
            "text/html": [
              "<div>\n",
              "<style scoped>\n",
              "    .dataframe tbody tr th:only-of-type {\n",
              "        vertical-align: middle;\n",
              "    }\n",
              "\n",
              "    .dataframe tbody tr th {\n",
              "        vertical-align: top;\n",
              "    }\n",
              "\n",
              "    .dataframe thead th {\n",
              "        text-align: right;\n",
              "    }\n",
              "</style>\n",
              "<table border=\"1\" class=\"dataframe\">\n",
              "  <thead>\n",
              "    <tr style=\"text-align: right;\">\n",
              "      <th></th>\n",
              "      <th>RowNumber</th>\n",
              "      <th>CustomerId</th>\n",
              "      <th>Surname</th>\n",
              "      <th>CreditScore</th>\n",
              "      <th>Geography</th>\n",
              "      <th>Gender</th>\n",
              "      <th>Age</th>\n",
              "      <th>Tenure</th>\n",
              "      <th>Balance</th>\n",
              "      <th>NumOfProducts</th>\n",
              "      <th>HasCrCard</th>\n",
              "      <th>IsActiveMember</th>\n",
              "      <th>EstimatedSalary</th>\n",
              "      <th>Exited</th>\n",
              "    </tr>\n",
              "  </thead>\n",
              "  <tbody>\n",
              "    <tr>\n",
              "      <th>0</th>\n",
              "      <td>1</td>\n",
              "      <td>15634602</td>\n",
              "      <td>Hargrave</td>\n",
              "      <td>619</td>\n",
              "      <td>France</td>\n",
              "      <td>Female</td>\n",
              "      <td>42</td>\n",
              "      <td>2</td>\n",
              "      <td>0.00</td>\n",
              "      <td>1</td>\n",
              "      <td>1</td>\n",
              "      <td>1</td>\n",
              "      <td>101348.88</td>\n",
              "      <td>1</td>\n",
              "    </tr>\n",
              "    <tr>\n",
              "      <th>1</th>\n",
              "      <td>2</td>\n",
              "      <td>15647311</td>\n",
              "      <td>Hill</td>\n",
              "      <td>608</td>\n",
              "      <td>Spain</td>\n",
              "      <td>Female</td>\n",
              "      <td>41</td>\n",
              "      <td>1</td>\n",
              "      <td>83807.86</td>\n",
              "      <td>1</td>\n",
              "      <td>0</td>\n",
              "      <td>1</td>\n",
              "      <td>112542.58</td>\n",
              "      <td>0</td>\n",
              "    </tr>\n",
              "    <tr>\n",
              "      <th>2</th>\n",
              "      <td>3</td>\n",
              "      <td>15619304</td>\n",
              "      <td>Onio</td>\n",
              "      <td>502</td>\n",
              "      <td>France</td>\n",
              "      <td>Female</td>\n",
              "      <td>42</td>\n",
              "      <td>8</td>\n",
              "      <td>159660.80</td>\n",
              "      <td>3</td>\n",
              "      <td>1</td>\n",
              "      <td>0</td>\n",
              "      <td>113931.57</td>\n",
              "      <td>1</td>\n",
              "    </tr>\n",
              "    <tr>\n",
              "      <th>3</th>\n",
              "      <td>4</td>\n",
              "      <td>15701354</td>\n",
              "      <td>Boni</td>\n",
              "      <td>699</td>\n",
              "      <td>France</td>\n",
              "      <td>Female</td>\n",
              "      <td>39</td>\n",
              "      <td>1</td>\n",
              "      <td>0.00</td>\n",
              "      <td>2</td>\n",
              "      <td>0</td>\n",
              "      <td>0</td>\n",
              "      <td>93826.63</td>\n",
              "      <td>0</td>\n",
              "    </tr>\n",
              "    <tr>\n",
              "      <th>4</th>\n",
              "      <td>5</td>\n",
              "      <td>15737888</td>\n",
              "      <td>Mitchell</td>\n",
              "      <td>850</td>\n",
              "      <td>Spain</td>\n",
              "      <td>Female</td>\n",
              "      <td>43</td>\n",
              "      <td>2</td>\n",
              "      <td>125510.82</td>\n",
              "      <td>1</td>\n",
              "      <td>1</td>\n",
              "      <td>1</td>\n",
              "      <td>79084.10</td>\n",
              "      <td>0</td>\n",
              "    </tr>\n",
              "  </tbody>\n",
              "</table>\n",
              "</div>"
            ],
            "text/plain": [
              "   RowNumber  CustomerId   Surname  ...  IsActiveMember EstimatedSalary Exited\n",
              "0          1    15634602  Hargrave  ...               1       101348.88      1\n",
              "1          2    15647311      Hill  ...               1       112542.58      0\n",
              "2          3    15619304      Onio  ...               0       113931.57      1\n",
              "3          4    15701354      Boni  ...               0        93826.63      0\n",
              "4          5    15737888  Mitchell  ...               1        79084.10      0\n",
              "\n",
              "[5 rows x 14 columns]"
            ]
          },
          "metadata": {
            "tags": []
          },
          "execution_count": 3
        }
      ]
    },
    {
      "cell_type": "code",
      "metadata": {
        "colab": {
          "base_uri": "https://localhost:8080/"
        },
        "id": "VnOcL4RsG3H-",
        "outputId": "0d76a8ff-9611-42d7-c0ad-ad6bcc4fb692"
      },
      "source": [
        "df.columns"
      ],
      "execution_count": 4,
      "outputs": [
        {
          "output_type": "execute_result",
          "data": {
            "text/plain": [
              "Index(['RowNumber', 'CustomerId', 'Surname', 'CreditScore', 'Geography',\n",
              "       'Gender', 'Age', 'Tenure', 'Balance', 'NumOfProducts', 'HasCrCard',\n",
              "       'IsActiveMember', 'EstimatedSalary', 'Exited'],\n",
              "      dtype='object')"
            ]
          },
          "metadata": {
            "tags": []
          },
          "execution_count": 4
        }
      ]
    },
    {
      "cell_type": "code",
      "metadata": {
        "id": "JG6WGIrtDs5o"
      },
      "source": [
        "#Droping the columns which are not usefull\n",
        "df.drop(['RowNumber','CustomerId','Surname'],axis=1,inplace=True)"
      ],
      "execution_count": 5,
      "outputs": []
    },
    {
      "cell_type": "code",
      "metadata": {
        "id": "77IVvWzbEDz9"
      },
      "source": [
        "#Scaling the data for better outcome ->Importing Standard Scaler \n",
        "#LabelEncoding on columns which have catogrical data ->Importing LabelEncoder\n",
        "from sklearn.preprocessing import StandardScaler\n",
        "from sklearn.preprocessing import LabelEncoder"
      ],
      "execution_count": 6,
      "outputs": []
    },
    {
      "cell_type": "code",
      "metadata": {
        "id": "v6NKiMV4Fd_z"
      },
      "source": [
        "label_encoding =LabelEncoder()\n",
        "df['Gender'] =label_encoding.fit_transform(df['Gender'])\n",
        "df['Geography']=label_encoding.fit_transform(df['Geography'])"
      ],
      "execution_count": 7,
      "outputs": []
    },
    {
      "cell_type": "code",
      "metadata": {
        "colab": {
          "base_uri": "https://localhost:8080/"
        },
        "id": "Q9lKIs_JGPbt",
        "outputId": "af901cd0-96d6-4597-be46-6b4f2c6c85a1"
      },
      "source": [
        "df['Gender'].unique()"
      ],
      "execution_count": 8,
      "outputs": [
        {
          "output_type": "execute_result",
          "data": {
            "text/plain": [
              "array([0, 1])"
            ]
          },
          "metadata": {
            "tags": []
          },
          "execution_count": 8
        }
      ]
    },
    {
      "cell_type": "code",
      "metadata": {
        "colab": {
          "base_uri": "https://localhost:8080/"
        },
        "id": "-JsVfjLiGWpU",
        "outputId": "e7434c86-0fb3-4e27-cf96-92f4e7fca2da"
      },
      "source": [
        "df['Geography'].unique()"
      ],
      "execution_count": 9,
      "outputs": [
        {
          "output_type": "execute_result",
          "data": {
            "text/plain": [
              "array([0, 2, 1])"
            ]
          },
          "metadata": {
            "tags": []
          },
          "execution_count": 9
        }
      ]
    },
    {
      "cell_type": "code",
      "metadata": {
        "id": "0NoKyaogGbkJ"
      },
      "source": [
        "#dividing data into Independent and Dependent data\n",
        "X=df.iloc[:,:-1]\n",
        "y=df.iloc[:,-1]"
      ],
      "execution_count": 10,
      "outputs": []
    },
    {
      "cell_type": "code",
      "metadata": {
        "colab": {
          "base_uri": "https://localhost:8080/"
        },
        "id": "w3k-YYnPGv6Y",
        "outputId": "1cc171eb-5c41-4716-cdc9-6f52f646efc0"
      },
      "source": [
        "print(X.shape)\n",
        "print(y.shape)"
      ],
      "execution_count": 11,
      "outputs": [
        {
          "output_type": "stream",
          "text": [
            "(10000, 10)\n",
            "(10000,)\n"
          ],
          "name": "stdout"
        }
      ]
    },
    {
      "cell_type": "code",
      "metadata": {
        "id": "1Msiia_XG0cw"
      },
      "source": [
        "#Applying Scaling to all data we can also apply Scaling on indivisual row \n",
        "Scaler=StandardScaler()\n",
        "X_scale=Scaler.fit_transform(X.values)"
      ],
      "execution_count": 12,
      "outputs": []
    },
    {
      "cell_type": "code",
      "metadata": {
        "id": "LynMbsadHn0i"
      },
      "source": [
        "#Train test Splits\n",
        "from sklearn.model_selection import train_test_split"
      ],
      "execution_count": 13,
      "outputs": []
    },
    {
      "cell_type": "code",
      "metadata": {
        "id": "fLcmiNrNITyV"
      },
      "source": [
        "X_train,X_test,y_train,y_test =train_test_split(X_scale,y,test_size=0.3,random_state=2)"
      ],
      "execution_count": 14,
      "outputs": []
    },
    {
      "cell_type": "markdown",
      "metadata": {
        "id": "bA1pwFLimf4e"
      },
      "source": [
        "# ***LOGISTIC_REGRESSION***"
      ]
    },
    {
      "cell_type": "code",
      "metadata": {
        "id": "6zavYPwVInBe"
      },
      "source": [
        "#import Logistic Regression \n",
        "from sklearn.linear_model import LogisticRegression\n",
        "model_Lr=LogisticRegression()"
      ],
      "execution_count": 15,
      "outputs": []
    },
    {
      "cell_type": "code",
      "metadata": {
        "id": "I4e4wWM8I1iJ"
      },
      "source": [
        "#Traning & Testing\n",
        "model_Lr.fit(X_train,y_train)\n",
        "y_pred=model_Lr.predict(X_test)"
      ],
      "execution_count": 16,
      "outputs": []
    },
    {
      "cell_type": "code",
      "metadata": {
        "id": "vMi6S6nfJFWf"
      },
      "source": [
        "#Accuracy\n",
        "from sklearn import metrics"
      ],
      "execution_count": 17,
      "outputs": []
    },
    {
      "cell_type": "code",
      "metadata": {
        "colab": {
          "base_uri": "https://localhost:8080/"
        },
        "id": "wZMQfEMnJPvU",
        "outputId": "2195fb33-d850-4720-c183-edb27683aad7"
      },
      "source": [
        "print(\"Accuracy_Score :\",metrics.accuracy_score(y_test,y_pred))\n",
        "print(\"Classification_Report :\\n\",metrics.classification_report(y_test,y_pred))\n",
        "print('Confusion_Matrix :\\n',metrics.confusion_matrix(y_test,y_pred))"
      ],
      "execution_count": 18,
      "outputs": [
        {
          "output_type": "stream",
          "text": [
            "Accuracy_Score : 0.8086666666666666\n",
            "Classification_Report :\n",
            "               precision    recall  f1-score   support\n",
            "\n",
            "           0       0.83      0.97      0.89      2415\n",
            "           1       0.53      0.16      0.25       585\n",
            "\n",
            "    accuracy                           0.81      3000\n",
            "   macro avg       0.68      0.56      0.57      3000\n",
            "weighted avg       0.77      0.81      0.76      3000\n",
            "\n",
            "Confusion_Matrix :\n",
            " [[2332   83]\n",
            " [ 491   94]]\n"
          ],
          "name": "stdout"
        }
      ]
    },
    {
      "cell_type": "code",
      "metadata": {
        "id": "DIy2hzwBJv3E"
      },
      "source": [
        "#HYPER-TUNING in Logistic_Regression"
      ],
      "execution_count": 19,
      "outputs": []
    },
    {
      "cell_type": "markdown",
      "metadata": {
        "id": "cNPQkqL5gSq5"
      },
      "source": [
        "Logistic regression does have not really have any critical hyperparameters to tune.\n",
        "\n",
        "Sometime few of them are imp. which can inhace the performance\n",
        "\n",
        "->solver in [‘newton-cg’, ‘lbfgs’, ‘liblinear’, ‘sag’, ‘saga’]\n",
        "\n",
        "->penalty in [‘none’, ‘l1’, ‘l2’, ‘elasticnet’]\n",
        "\n",
        "->C in [100, 10, 1.0, 0.1, 0.01]\n",
        "C parameter controls the penality strength, which can also be effective\n",
        "\n",
        "for all parameter of Logistic Regession :https://scikit-learn.org/stable/modules/generated/sklearn.linear_model.LogisticRegression.html\n"
      ]
    },
    {
      "cell_type": "code",
      "metadata": {
        "id": "vuKcPxljijs-"
      },
      "source": [
        "from sklearn.model_selection import GridSearchCV\n",
        "from sklearn.model_selection import RandomizedSearchCV"
      ],
      "execution_count": 20,
      "outputs": []
    },
    {
      "cell_type": "code",
      "metadata": {
        "id": "BK7MiWD1hYFv"
      },
      "source": [
        "#defining the parametres:\n",
        "model =LogisticRegression()\n",
        "solvers=['newton-cg','lbfgs','liblinear','sag','saga']\n",
        "penalty=['l1','l2','elasticnet']\n",
        "c_values=[100,10,1.0,0.1,0.001]"
      ],
      "execution_count": 21,
      "outputs": []
    },
    {
      "cell_type": "markdown",
      "metadata": {
        "id": "dAuHS3Ooi100"
      },
      "source": [
        "GRID_CV"
      ]
    },
    {
      "cell_type": "code",
      "metadata": {
        "id": "WFgu144tiiZU"
      },
      "source": [
        "grid=dict(solver=solvers,penalty=penalty,C=c_values)"
      ],
      "execution_count": 22,
      "outputs": []
    },
    {
      "cell_type": "code",
      "metadata": {
        "id": "ebM_Whn4jLBf"
      },
      "source": [
        "grid_search =GridSearchCV(estimator=model,param_grid=grid,n_jobs=-1,cv=5,scoring='accuracy',error_score=0)"
      ],
      "execution_count": 23,
      "outputs": []
    },
    {
      "cell_type": "code",
      "metadata": {
        "id": "sP1u-MS7jskX"
      },
      "source": [
        "grid_result=grid_search.fit(X_train,y_train)"
      ],
      "execution_count": 24,
      "outputs": []
    },
    {
      "cell_type": "code",
      "metadata": {
        "colab": {
          "base_uri": "https://localhost:8080/"
        },
        "id": "u4Fo_ABXj6Ph",
        "outputId": "3b91476c-afcf-486c-dd50-feb505205b17"
      },
      "source": [
        "print(\"Best: %f using %s\" % (grid_result.best_score_, grid_result.best_params_))\n",
        "means = grid_result.cv_results_['mean_test_score']\n",
        "stds = grid_result.cv_results_['std_test_score']"
      ],
      "execution_count": 25,
      "outputs": [
        {
          "output_type": "stream",
          "text": [
            "Best: 0.806714 using {'C': 100, 'penalty': 'l1', 'solver': 'liblinear'}\n"
          ],
          "name": "stdout"
        }
      ]
    },
    {
      "cell_type": "markdown",
      "metadata": {
        "id": "avj9KbtJkvIB"
      },
      "source": [
        "Randomised Search Cv"
      ]
    },
    {
      "cell_type": "code",
      "metadata": {
        "id": "uACCY73QkMLf"
      },
      "source": [
        "random=dict(solver=solvers,penalty=penalty,C=c_values)"
      ],
      "execution_count": 26,
      "outputs": []
    },
    {
      "cell_type": "code",
      "metadata": {
        "id": "T1U9Jfiak-24"
      },
      "source": [
        "random_cv=RandomizedSearchCV(estimator=model,param_distributions=random,n_iter=5,scoring='accuracy',n_jobs=-1,random_state=1,error_score=0,cv=10)"
      ],
      "execution_count": 27,
      "outputs": []
    },
    {
      "cell_type": "code",
      "metadata": {
        "id": "bQhsT0OklqBI"
      },
      "source": [
        "random_result=random_cv.fit(X_train,y_train)"
      ],
      "execution_count": 28,
      "outputs": []
    },
    {
      "cell_type": "code",
      "metadata": {
        "colab": {
          "base_uri": "https://localhost:8080/"
        },
        "id": "6rBoT-xKlvuF",
        "outputId": "ae939b88-e742-40f0-b33b-d76b24e1e515"
      },
      "source": [
        "print(\"Best: %f using %s\" % (random_result.best_score_, random_result.best_params_))\n",
        "means = random_result.cv_results_['mean_test_score']\n",
        "stds = random_result.cv_results_['std_test_score']"
      ],
      "execution_count": 29,
      "outputs": [
        {
          "output_type": "stream",
          "text": [
            "Best: 0.806857 using {'solver': 'saga', 'penalty': 'l1', 'C': 10}\n"
          ],
          "name": "stdout"
        }
      ]
    },
    {
      "cell_type": "code",
      "metadata": {
        "id": "9XLlOod4mHWh"
      },
      "source": [
        "##Now if you get the more accuracy in hyper-tunning just copy those parameter and pass while making instance of algorithms\n"
      ],
      "execution_count": 30,
      "outputs": []
    }
  ]
}